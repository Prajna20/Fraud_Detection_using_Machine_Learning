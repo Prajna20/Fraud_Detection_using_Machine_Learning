{
  "nbformat": 4,
  "nbformat_minor": 0,
  "metadata": {
    "colab": {
      "name": "fraud_detection_using_machine_learning.ipynb",
      "provenance": [],
      "collapsed_sections": []
    },
    "kernelspec": {
      "name": "python3",
      "display_name": "Python 3"
    }
  },
  "cells": [
    {
      "cell_type": "code",
      "metadata": {
        "id": "jpKjh7a1Esoe",
        "colab_type": "code",
        "colab": {}
      },
      "source": [
        "import pandas as pd\n",
        "import matplotlib.pyplot as plt\n",
        "%matplotlib inline\n",
        "from sklearn.preprocessing import StandardScaler\n",
        "import seaborn as sns\n",
        "import numpy as np\n",
        "import warnings\n",
        "warnings.filterwarnings('ignore')"
      ],
      "execution_count": 3,
      "outputs": []
    },
    {
      "cell_type": "code",
      "metadata": {
        "id": "XCE3easZLo4s",
        "colab_type": "code",
        "colab": {
          "base_uri": "https://localhost:8080/",
          "height": 215
        },
        "outputId": "f6ab39dc-9919-4785-96ca-d5811572ee54"
      },
      "source": [
        "#read data from csv file\n",
        "\n",
        "df = pd.read_csv('creditcard.csv')\n",
        "df.head()"
      ],
      "execution_count": 5,
      "outputs": [
        {
          "output_type": "execute_result",
          "data": {
            "text/html": [
              "<div>\n",
              "<style scoped>\n",
              "    .dataframe tbody tr th:only-of-type {\n",
              "        vertical-align: middle;\n",
              "    }\n",
              "\n",
              "    .dataframe tbody tr th {\n",
              "        vertical-align: top;\n",
              "    }\n",
              "\n",
              "    .dataframe thead th {\n",
              "        text-align: right;\n",
              "    }\n",
              "</style>\n",
              "<table border=\"1\" class=\"dataframe\">\n",
              "  <thead>\n",
              "    <tr style=\"text-align: right;\">\n",
              "      <th></th>\n",
              "      <th>Time</th>\n",
              "      <th>V1</th>\n",
              "      <th>V2</th>\n",
              "      <th>V3</th>\n",
              "      <th>V4</th>\n",
              "      <th>V5</th>\n",
              "      <th>V6</th>\n",
              "      <th>V7</th>\n",
              "      <th>V8</th>\n",
              "      <th>V9</th>\n",
              "      <th>V10</th>\n",
              "      <th>V11</th>\n",
              "      <th>V12</th>\n",
              "      <th>V13</th>\n",
              "      <th>V14</th>\n",
              "      <th>V15</th>\n",
              "      <th>V16</th>\n",
              "      <th>V17</th>\n",
              "      <th>V18</th>\n",
              "      <th>V19</th>\n",
              "      <th>V20</th>\n",
              "      <th>V21</th>\n",
              "      <th>V22</th>\n",
              "      <th>V23</th>\n",
              "      <th>V24</th>\n",
              "      <th>V25</th>\n",
              "      <th>V26</th>\n",
              "      <th>V27</th>\n",
              "      <th>V28</th>\n",
              "      <th>Amount</th>\n",
              "      <th>Class</th>\n",
              "    </tr>\n",
              "  </thead>\n",
              "  <tbody>\n",
              "    <tr>\n",
              "      <th>0</th>\n",
              "      <td>0.0</td>\n",
              "      <td>-1.359807</td>\n",
              "      <td>-0.072781</td>\n",
              "      <td>2.536347</td>\n",
              "      <td>1.378155</td>\n",
              "      <td>-0.338321</td>\n",
              "      <td>0.462388</td>\n",
              "      <td>0.239599</td>\n",
              "      <td>0.098698</td>\n",
              "      <td>0.363787</td>\n",
              "      <td>0.090794</td>\n",
              "      <td>-0.551600</td>\n",
              "      <td>-0.617801</td>\n",
              "      <td>-0.991390</td>\n",
              "      <td>-0.311169</td>\n",
              "      <td>1.468177</td>\n",
              "      <td>-0.470401</td>\n",
              "      <td>0.207971</td>\n",
              "      <td>0.025791</td>\n",
              "      <td>0.403993</td>\n",
              "      <td>0.251412</td>\n",
              "      <td>-0.018307</td>\n",
              "      <td>0.277838</td>\n",
              "      <td>-0.110474</td>\n",
              "      <td>0.066928</td>\n",
              "      <td>0.128539</td>\n",
              "      <td>-0.189115</td>\n",
              "      <td>0.133558</td>\n",
              "      <td>-0.021053</td>\n",
              "      <td>149.62</td>\n",
              "      <td>0</td>\n",
              "    </tr>\n",
              "    <tr>\n",
              "      <th>1</th>\n",
              "      <td>0.0</td>\n",
              "      <td>1.191857</td>\n",
              "      <td>0.266151</td>\n",
              "      <td>0.166480</td>\n",
              "      <td>0.448154</td>\n",
              "      <td>0.060018</td>\n",
              "      <td>-0.082361</td>\n",
              "      <td>-0.078803</td>\n",
              "      <td>0.085102</td>\n",
              "      <td>-0.255425</td>\n",
              "      <td>-0.166974</td>\n",
              "      <td>1.612727</td>\n",
              "      <td>1.065235</td>\n",
              "      <td>0.489095</td>\n",
              "      <td>-0.143772</td>\n",
              "      <td>0.635558</td>\n",
              "      <td>0.463917</td>\n",
              "      <td>-0.114805</td>\n",
              "      <td>-0.183361</td>\n",
              "      <td>-0.145783</td>\n",
              "      <td>-0.069083</td>\n",
              "      <td>-0.225775</td>\n",
              "      <td>-0.638672</td>\n",
              "      <td>0.101288</td>\n",
              "      <td>-0.339846</td>\n",
              "      <td>0.167170</td>\n",
              "      <td>0.125895</td>\n",
              "      <td>-0.008983</td>\n",
              "      <td>0.014724</td>\n",
              "      <td>2.69</td>\n",
              "      <td>0</td>\n",
              "    </tr>\n",
              "    <tr>\n",
              "      <th>2</th>\n",
              "      <td>1.0</td>\n",
              "      <td>-1.358354</td>\n",
              "      <td>-1.340163</td>\n",
              "      <td>1.773209</td>\n",
              "      <td>0.379780</td>\n",
              "      <td>-0.503198</td>\n",
              "      <td>1.800499</td>\n",
              "      <td>0.791461</td>\n",
              "      <td>0.247676</td>\n",
              "      <td>-1.514654</td>\n",
              "      <td>0.207643</td>\n",
              "      <td>0.624501</td>\n",
              "      <td>0.066084</td>\n",
              "      <td>0.717293</td>\n",
              "      <td>-0.165946</td>\n",
              "      <td>2.345865</td>\n",
              "      <td>-2.890083</td>\n",
              "      <td>1.109969</td>\n",
              "      <td>-0.121359</td>\n",
              "      <td>-2.261857</td>\n",
              "      <td>0.524980</td>\n",
              "      <td>0.247998</td>\n",
              "      <td>0.771679</td>\n",
              "      <td>0.909412</td>\n",
              "      <td>-0.689281</td>\n",
              "      <td>-0.327642</td>\n",
              "      <td>-0.139097</td>\n",
              "      <td>-0.055353</td>\n",
              "      <td>-0.059752</td>\n",
              "      <td>378.66</td>\n",
              "      <td>0</td>\n",
              "    </tr>\n",
              "    <tr>\n",
              "      <th>3</th>\n",
              "      <td>1.0</td>\n",
              "      <td>-0.966272</td>\n",
              "      <td>-0.185226</td>\n",
              "      <td>1.792993</td>\n",
              "      <td>-0.863291</td>\n",
              "      <td>-0.010309</td>\n",
              "      <td>1.247203</td>\n",
              "      <td>0.237609</td>\n",
              "      <td>0.377436</td>\n",
              "      <td>-1.387024</td>\n",
              "      <td>-0.054952</td>\n",
              "      <td>-0.226487</td>\n",
              "      <td>0.178228</td>\n",
              "      <td>0.507757</td>\n",
              "      <td>-0.287924</td>\n",
              "      <td>-0.631418</td>\n",
              "      <td>-1.059647</td>\n",
              "      <td>-0.684093</td>\n",
              "      <td>1.965775</td>\n",
              "      <td>-1.232622</td>\n",
              "      <td>-0.208038</td>\n",
              "      <td>-0.108300</td>\n",
              "      <td>0.005274</td>\n",
              "      <td>-0.190321</td>\n",
              "      <td>-1.175575</td>\n",
              "      <td>0.647376</td>\n",
              "      <td>-0.221929</td>\n",
              "      <td>0.062723</td>\n",
              "      <td>0.061458</td>\n",
              "      <td>123.50</td>\n",
              "      <td>0</td>\n",
              "    </tr>\n",
              "    <tr>\n",
              "      <th>4</th>\n",
              "      <td>2.0</td>\n",
              "      <td>-1.158233</td>\n",
              "      <td>0.877737</td>\n",
              "      <td>1.548718</td>\n",
              "      <td>0.403034</td>\n",
              "      <td>-0.407193</td>\n",
              "      <td>0.095921</td>\n",
              "      <td>0.592941</td>\n",
              "      <td>-0.270533</td>\n",
              "      <td>0.817739</td>\n",
              "      <td>0.753074</td>\n",
              "      <td>-0.822843</td>\n",
              "      <td>0.538196</td>\n",
              "      <td>1.345852</td>\n",
              "      <td>-1.119670</td>\n",
              "      <td>0.175121</td>\n",
              "      <td>-0.451449</td>\n",
              "      <td>-0.237033</td>\n",
              "      <td>-0.038195</td>\n",
              "      <td>0.803487</td>\n",
              "      <td>0.408542</td>\n",
              "      <td>-0.009431</td>\n",
              "      <td>0.798278</td>\n",
              "      <td>-0.137458</td>\n",
              "      <td>0.141267</td>\n",
              "      <td>-0.206010</td>\n",
              "      <td>0.502292</td>\n",
              "      <td>0.219422</td>\n",
              "      <td>0.215153</td>\n",
              "      <td>69.99</td>\n",
              "      <td>0</td>\n",
              "    </tr>\n",
              "  </tbody>\n",
              "</table>\n",
              "</div>"
            ],
            "text/plain": [
              "   Time        V1        V2        V3  ...       V27       V28  Amount  Class\n",
              "0   0.0 -1.359807 -0.072781  2.536347  ...  0.133558 -0.021053  149.62      0\n",
              "1   0.0  1.191857  0.266151  0.166480  ... -0.008983  0.014724    2.69      0\n",
              "2   1.0 -1.358354 -1.340163  1.773209  ... -0.055353 -0.059752  378.66      0\n",
              "3   1.0 -0.966272 -0.185226  1.792993  ...  0.062723  0.061458  123.50      0\n",
              "4   2.0 -1.158233  0.877737  1.548718  ...  0.219422  0.215153   69.99      0\n",
              "\n",
              "[5 rows x 31 columns]"
            ]
          },
          "metadata": {
            "tags": []
          },
          "execution_count": 5
        }
      ]
    },
    {
      "cell_type": "code",
      "metadata": {
        "id": "qAY2sfciL8w3",
        "colab_type": "code",
        "colab": {
          "base_uri": "https://localhost:8080/",
          "height": 34
        },
        "outputId": "b6b83e96-0496-440e-f151-1520471ca7f0"
      },
      "source": [
        "print(df.shape[0],df.shape[1])"
      ],
      "execution_count": 6,
      "outputs": [
        {
          "output_type": "stream",
          "text": [
            "284807 31\n"
          ],
          "name": "stdout"
        }
      ]
    },
    {
      "cell_type": "code",
      "metadata": {
        "id": "MA1NLLcUL45o",
        "colab_type": "code",
        "colab": {
          "base_uri": "https://localhost:8080/",
          "height": 101
        },
        "outputId": "5ae41541-82e3-427c-d765-8a62cdbb3bee"
      },
      "source": [
        "#to find the columns\n",
        "\n",
        "df.columns"
      ],
      "execution_count": 8,
      "outputs": [
        {
          "output_type": "execute_result",
          "data": {
            "text/plain": [
              "Index(['Time', 'V1', 'V2', 'V3', 'V4', 'V5', 'V6', 'V7', 'V8', 'V9', 'V10',\n",
              "       'V11', 'V12', 'V13', 'V14', 'V15', 'V16', 'V17', 'V18', 'V19', 'V20',\n",
              "       'V21', 'V22', 'V23', 'V24', 'V25', 'V26', 'V27', 'V28', 'Amount',\n",
              "       'Class'],\n",
              "      dtype='object')"
            ]
          },
          "metadata": {
            "tags": []
          },
          "execution_count": 8
        }
      ]
    },
    {
      "cell_type": "code",
      "metadata": {
        "id": "tmcOcrsEMRO-",
        "colab_type": "code",
        "colab": {
          "base_uri": "https://localhost:8080/",
          "height": 34
        },
        "outputId": "e54bd514-c4fc-4f19-e14e-21d81a13e117"
      },
      "source": [
        "df.isnull().sum().max()"
      ],
      "execution_count": 9,
      "outputs": [
        {
          "output_type": "execute_result",
          "data": {
            "text/plain": [
              "0"
            ]
          },
          "metadata": {
            "tags": []
          },
          "execution_count": 9
        }
      ]
    },
    {
      "cell_type": "code",
      "metadata": {
        "id": "Bt_FWVHgMdtJ",
        "colab_type": "code",
        "colab": {
          "base_uri": "https://localhost:8080/",
          "height": 655
        },
        "outputId": "5e926999-a0c3-4fee-a675-96e7d3156115"
      },
      "source": [
        "df.info()"
      ],
      "execution_count": 10,
      "outputs": [
        {
          "output_type": "stream",
          "text": [
            "<class 'pandas.core.frame.DataFrame'>\n",
            "RangeIndex: 284807 entries, 0 to 284806\n",
            "Data columns (total 31 columns):\n",
            " #   Column  Non-Null Count   Dtype  \n",
            "---  ------  --------------   -----  \n",
            " 0   Time    284807 non-null  float64\n",
            " 1   V1      284807 non-null  float64\n",
            " 2   V2      284807 non-null  float64\n",
            " 3   V3      284807 non-null  float64\n",
            " 4   V4      284807 non-null  float64\n",
            " 5   V5      284807 non-null  float64\n",
            " 6   V6      284807 non-null  float64\n",
            " 7   V7      284807 non-null  float64\n",
            " 8   V8      284807 non-null  float64\n",
            " 9   V9      284807 non-null  float64\n",
            " 10  V10     284807 non-null  float64\n",
            " 11  V11     284807 non-null  float64\n",
            " 12  V12     284807 non-null  float64\n",
            " 13  V13     284807 non-null  float64\n",
            " 14  V14     284807 non-null  float64\n",
            " 15  V15     284807 non-null  float64\n",
            " 16  V16     284807 non-null  float64\n",
            " 17  V17     284807 non-null  float64\n",
            " 18  V18     284807 non-null  float64\n",
            " 19  V19     284807 non-null  float64\n",
            " 20  V20     284807 non-null  float64\n",
            " 21  V21     284807 non-null  float64\n",
            " 22  V22     284807 non-null  float64\n",
            " 23  V23     284807 non-null  float64\n",
            " 24  V24     284807 non-null  float64\n",
            " 25  V25     284807 non-null  float64\n",
            " 26  V26     284807 non-null  float64\n",
            " 27  V27     284807 non-null  float64\n",
            " 28  V28     284807 non-null  float64\n",
            " 29  Amount  284807 non-null  float64\n",
            " 30  Class   284807 non-null  int64  \n",
            "dtypes: float64(30), int64(1)\n",
            "memory usage: 67.4 MB\n"
          ],
          "name": "stdout"
        }
      ]
    },
    {
      "cell_type": "code",
      "metadata": {
        "id": "Qy1-g1hDMhEv",
        "colab_type": "code",
        "colab": {
          "base_uri": "https://localhost:8080/",
          "height": 50
        },
        "outputId": "769efeb4-38fb-4117-ff30-96bfa47194e2"
      },
      "source": [
        "#to know the distrubution of fraud and normal transactions\n",
        "\n",
        "print('Normal Transactions count:',data['Class'].value_counts().values[0])\n",
        "print('Fraudulent Transactions count:',data['Class'].value_counts().values[1])"
      ],
      "execution_count": 11,
      "outputs": [
        {
          "output_type": "stream",
          "text": [
            "Normal Transactions count: 284315\n",
            "Fraudulent Transactions count: 492\n"
          ],
          "name": "stdout"
        }
      ]
    },
    {
      "cell_type": "code",
      "metadata": {
        "id": "aeCuTc7xNGDW",
        "colab_type": "code",
        "colab": {
          "base_uri": "https://localhost:8080/",
          "height": 50
        },
        "outputId": "84909a3b-c0ce-4489-c92b-bdd4cc0e82a0"
      },
      "source": [
        "#to know the percentade of fraud and normal transactions\n",
        "\n",
        "print('Normal transactions are',(data['Class'].value_counts().values[0]/data.shape[0])*100,'% of the dataset')\n",
        "print('Fraudulent transactions are',(data['Class'].value_counts().values[1]/data.shape[0])*100,'% of the dataset')"
      ],
      "execution_count": 12,
      "outputs": [
        {
          "output_type": "stream",
          "text": [
            "Normal transactions are 99.82725143693798 % of the dataset\n",
            "Fraudulent transactions are 0.1727485630620034 % of the dataset\n"
          ],
          "name": "stdout"
        }
      ]
    },
    {
      "cell_type": "code",
      "metadata": {
        "id": "s1SHPozyNbCq",
        "colab_type": "code",
        "colab": {
          "base_uri": "https://localhost:8080/",
          "height": 312
        },
        "outputId": "3ec22958-e1a2-4382-e34c-6df7bdc33fb3"
      },
      "source": [
        "#EXPLORATORY ANALYSIS\n",
        "#To know the transaction class distrubution\n",
        "\n",
        "count_class=pd.value_counts(data['Class'],sort=True)\n",
        "count_class.plot(kind='bar',rot=0)\n",
        "plt.title('Transaction class distribution')\n",
        "LABELS=['Normal','Fraud']\n",
        "plt.xticks(range(2),LABELS)\n",
        "plt.xlabel('Class')\n",
        "plt.ylabel('Frequency')"
      ],
      "execution_count": 13,
      "outputs": [
        {
          "output_type": "execute_result",
          "data": {
            "text/plain": [
              "Text(0, 0.5, 'Frequency')"
            ]
          },
          "metadata": {
            "tags": []
          },
          "execution_count": 13
        },
        {
          "output_type": "display_data",
          "data": {
            "image/png": "[encoded data removed]",
            "text/plain": [
              "<Figure size 432x288 with 1 Axes>"
            ]
          },
          "metadata": {
            "tags": [],
            "needs_background": "light"
          }
        }
      ]
    },
    {
      "cell_type": "code",
      "metadata": {
        "id": "tlQ1CO5lNubg",
        "colab_type": "code",
        "colab": {
          "base_uri": "https://localhost:8080/",
          "height": 201
        },
        "outputId": "6a445ceb-598e-48b8-c957-f290f31b5c4e"
      },
      "source": [
        "#Visualization of time and amount distrubution\n",
        "\n",
        "fig, ax = plt.subplots(1, 2, figsize=(18,4))\n",
        "\n",
        "amount_val = data['Amount'].values\n",
        "time_val = data['Time'].values\n",
        "\n",
        "sns.distplot(amount_val, ax=ax[0], color='r')\n",
        "ax[0].set_title('Distribution of Transaction Amount', fontsize=14)\n",
        "ax[0].set_xlim([min(amount_val), max(amount_val)])\n",
        "\n",
        "sns.distplot(time_val, ax=ax[1], color='b')\n",
        "ax[1].set_title('Distribution of Transaction Time', fontsize=14)\n",
        "ax[1].set_xlim([min(time_val), max(time_val)])\n"
      ],
      "execution_count": 14,
      "outputs": [
        {
          "output_type": "execute_result",
          "data": {
            "text/plain": [
              "(0.0, 172792.0)"
            ]
          },
          "metadata": {
            "tags": []
          },
          "execution_count": 14
        },
        {
          "output_type": "display_data",
          "data": {
            "image/png": "[encoded data removed]",
            "text/plain": [
              "<Figure size 1296x288 with 2 Axes>"
            ]
          },
          "metadata": {
            "tags": [],
            "needs_background": "light"
          }
        }
      ]
    },
    {
      "cell_type": "code",
      "metadata": {
        "id": "0wjfrSdsOK4i",
        "colab_type": "code",
        "colab": {
          "base_uri": "https://localhost:8080/",
          "height": 441
        },
        "outputId": "0ae5bbcc-638c-4f19-87fa-ef9a8b389510"
      },
      "source": [
        "#Visualization of time and amount using class\n",
        "sns.set_style(\"whitegrid\")\n",
        "sns.FacetGrid(data, hue=\"Class\", size = 6).map(plt.scatter, \"Time\", \"Amount\").add_legend()\n",
        "plt.show()"
      ],
      "execution_count": 15,
      "outputs": [
        {
          "output_type": "display_data",
          "data": {
            "image/png": "[encoded data removed]",
            "text/plain": [
              "<Figure size 474.375x432 with 1 Axes>"
            ]
          },
          "metadata": {
            "tags": []
          }
        }
      ]
    },
    {
      "cell_type": "markdown",
      "metadata": {
        "id": "ENnbYa2UOpJm",
        "colab_type": "text"
      },
      "source": [
        "By the above graph there are frauds only on the transactions which have transaction amount approximately less than 2500 and the transactions which have transaction amount approximately above 2500 have no fraud"
      ]
    },
    {
      "cell_type": "code",
      "metadata": {
        "id": "LZly_h4SOYBR",
        "colab_type": "code",
        "colab": {
          "base_uri": "https://localhost:8080/",
          "height": 168
        },
        "outputId": "7c74efaa-c47d-4a6f-9bcd-08aaaa27de9f"
      },
      "source": [
        "#Know about the fraud and normal amount\n",
        "\n",
        "fraud=data[data['Class']==1]\n",
        "normal=data[data['Class']==0]\n",
        "fraud.Amount.describe()"
      ],
      "execution_count": 16,
      "outputs": [
        {
          "output_type": "execute_result",
          "data": {
            "text/plain": [
              "count     492.000000\n",
              "mean      122.211321\n",
              "std       256.683288\n",
              "min         0.000000\n",
              "25%         1.000000\n",
              "50%         9.250000\n",
              "75%       105.890000\n",
              "max      2125.870000\n",
              "Name: Amount, dtype: float64"
            ]
          },
          "metadata": {
            "tags": []
          },
          "execution_count": 16
        }
      ]
    },
    {
      "cell_type": "code",
      "metadata": {
        "id": "NnuIt2FePIwu",
        "colab_type": "code",
        "colab": {
          "base_uri": "https://localhost:8080/",
          "height": 168
        },
        "outputId": "83ff794e-1c28-4b07-9c46-4be5950498f4"
      },
      "source": [
        "normal.Amount.describe()"
      ],
      "execution_count": 17,
      "outputs": [
        {
          "output_type": "execute_result",
          "data": {
            "text/plain": [
              "count    284315.000000\n",
              "mean         88.291022\n",
              "std         250.105092\n",
              "min           0.000000\n",
              "25%           5.650000\n",
              "50%          22.000000\n",
              "75%          77.050000\n",
              "max       25691.160000\n",
              "Name: Amount, dtype: float64"
            ]
          },
          "metadata": {
            "tags": []
          },
          "execution_count": 17
        }
      ]
    },
    {
      "cell_type": "code",
      "metadata": {
        "id": "XsWKxspnPSh2",
        "colab_type": "code",
        "colab": {}
      },
      "source": [
        "#NORMALIZATIO OF DATA\n",
        "#Normalization of data is done upto particular range\n",
        "#RobustScaler reduces the influence of outliers\n",
        "\n",
        "from sklearn.preprocessing import StandardScaler,RobustScaler\n",
        "\n",
        "std_scaler = StandardScaler()\n",
        "rob_scaler = RobustScaler()\n",
        "\n",
        "data['scaled_amount'] = std_scaler.fit_transform(data['Amount'].values.reshape(-1,1))\n",
        "data['scaled_time'] = rob_scaler.fit_transform(data['Time'].values.reshape(-1,1))\n",
        "\n",
        "data.drop(['Time','Amount'], axis=1, inplace=True)"
      ],
      "execution_count": 18,
      "outputs": []
    },
    {
      "cell_type": "code",
      "metadata": {
        "id": "BXSEykT7QAC0",
        "colab_type": "code",
        "colab": {}
      },
      "source": [
        "scaled_amount = data['scaled_amount']\n",
        "scaled_time = data['scaled_time']\n",
        "\n",
        "data.drop(['scaled_amount', 'scaled_time'], axis=1, inplace=True)\n",
        "data.insert(0, 'scaled_amount', scaled_amount)\n",
        "data.insert(1, 'scaled_time', scaled_time)"
      ],
      "execution_count": 19,
      "outputs": []
    },
    {
      "cell_type": "code",
      "metadata": {
        "id": "T7QP2y8NQFmB",
        "colab_type": "code",
        "colab": {
          "base_uri": "https://localhost:8080/",
          "height": 215
        },
        "outputId": "9ab04c7f-d8c6-41d1-b3fc-0ec6fc0ce648"
      },
      "source": [
        "#Creation of sub sample of data which has equal amount of fraud and non fraud cases to avoid over fitting\n",
        "\n",
        "data = data.sample(frac=1)\n",
        "\n",
        "# amount of fraud classes 492 rows.\n",
        "fraud_df = data.loc[data['Class'] == 1]\n",
        "non_fraud_df = data.loc[data['Class'] == 0][:492]\n",
        "normal_distributed_df = pd.concat([fraud_df, non_fraud_df])\n",
        "# Shuffle dataframe rows\n",
        "new_df = normal_distributed_df.sample(frac=1, random_state=42)\n",
        "new_df.head()"
      ],
      "execution_count": 20,
      "outputs": [
        {
          "output_type": "execute_result",
          "data": {
            "text/html": [
              "<div>\n",
              "<style scoped>\n",
              "    .dataframe tbody tr th:only-of-type {\n",
              "        vertical-align: middle;\n",
              "    }\n",
              "\n",
              "    .dataframe tbody tr th {\n",
              "        vertical-align: top;\n",
              "    }\n",
              "\n",
              "    .dataframe thead th {\n",
              "        text-align: right;\n",
              "    }\n",
              "</style>\n",
              "<table border=\"1\" class=\"dataframe\">\n",
              "  <thead>\n",
              "    <tr style=\"text-align: right;\">\n",
              "      <th></th>\n",
              "      <th>scaled_amount</th>\n",
              "      <th>scaled_time</th>\n",
              "      <th>V1</th>\n",
              "      <th>V2</th>\n",
              "      <th>V3</th>\n",
              "      <th>V4</th>\n",
              "      <th>V5</th>\n",
              "      <th>V6</th>\n",
              "      <th>V7</th>\n",
              "      <th>V8</th>\n",
              "      <th>V9</th>\n",
              "      <th>V10</th>\n",
              "      <th>V11</th>\n",
              "      <th>V12</th>\n",
              "      <th>V13</th>\n",
              "      <th>V14</th>\n",
              "      <th>V15</th>\n",
              "      <th>V16</th>\n",
              "      <th>V17</th>\n",
              "      <th>V18</th>\n",
              "      <th>V19</th>\n",
              "      <th>V20</th>\n",
              "      <th>V21</th>\n",
              "      <th>V22</th>\n",
              "      <th>V23</th>\n",
              "      <th>V24</th>\n",
              "      <th>V25</th>\n",
              "      <th>V26</th>\n",
              "      <th>V27</th>\n",
              "      <th>V28</th>\n",
              "      <th>Class</th>\n",
              "    </tr>\n",
              "  </thead>\n",
              "  <tbody>\n",
              "    <tr>\n",
              "      <th>277778</th>\n",
              "      <td>-0.349231</td>\n",
              "      <td>0.976950</td>\n",
              "      <td>2.086211</td>\n",
              "      <td>0.069609</td>\n",
              "      <td>-1.350529</td>\n",
              "      <td>0.324304</td>\n",
              "      <td>0.120085</td>\n",
              "      <td>-1.263190</td>\n",
              "      <td>0.319880</td>\n",
              "      <td>-0.451761</td>\n",
              "      <td>0.461480</td>\n",
              "      <td>-0.012321</td>\n",
              "      <td>-0.662933</td>\n",
              "      <td>0.760090</td>\n",
              "      <td>1.052103</td>\n",
              "      <td>0.287490</td>\n",
              "      <td>0.645802</td>\n",
              "      <td>-0.218794</td>\n",
              "      <td>-0.611455</td>\n",
              "      <td>-0.134892</td>\n",
              "      <td>-0.182441</td>\n",
              "      <td>-0.180663</td>\n",
              "      <td>0.246076</td>\n",
              "      <td>0.927684</td>\n",
              "      <td>-0.029365</td>\n",
              "      <td>-0.046741</td>\n",
              "      <td>0.320658</td>\n",
              "      <td>-0.104650</td>\n",
              "      <td>-0.013395</td>\n",
              "      <td>-0.058172</td>\n",
              "      <td>0</td>\n",
              "    </tr>\n",
              "    <tr>\n",
              "      <th>11841</th>\n",
              "      <td>-0.349231</td>\n",
              "      <td>-0.756118</td>\n",
              "      <td>-15.271362</td>\n",
              "      <td>8.326581</td>\n",
              "      <td>-22.338591</td>\n",
              "      <td>11.885313</td>\n",
              "      <td>-8.721334</td>\n",
              "      <td>-2.324307</td>\n",
              "      <td>-16.196419</td>\n",
              "      <td>0.512882</td>\n",
              "      <td>-6.333685</td>\n",
              "      <td>-13.175198</td>\n",
              "      <td>9.939820</td>\n",
              "      <td>-14.225456</td>\n",
              "      <td>0.716034</td>\n",
              "      <td>-14.004776</td>\n",
              "      <td>-0.329448</td>\n",
              "      <td>-8.059419</td>\n",
              "      <td>-12.122009</td>\n",
              "      <td>-4.799710</td>\n",
              "      <td>0.686227</td>\n",
              "      <td>0.993121</td>\n",
              "      <td>-2.356896</td>\n",
              "      <td>1.068019</td>\n",
              "      <td>1.085617</td>\n",
              "      <td>-1.039797</td>\n",
              "      <td>-0.182006</td>\n",
              "      <td>0.649921</td>\n",
              "      <td>2.149247</td>\n",
              "      <td>-1.406811</td>\n",
              "      <td>1</td>\n",
              "    </tr>\n",
              "    <tr>\n",
              "      <th>128066</th>\n",
              "      <td>0.334441</td>\n",
              "      <td>-0.071723</td>\n",
              "      <td>0.924646</td>\n",
              "      <td>-0.854503</td>\n",
              "      <td>0.837801</td>\n",
              "      <td>0.734950</td>\n",
              "      <td>-1.301756</td>\n",
              "      <td>-0.223249</td>\n",
              "      <td>-0.516070</td>\n",
              "      <td>-0.005195</td>\n",
              "      <td>-0.826724</td>\n",
              "      <td>0.718722</td>\n",
              "      <td>-0.152582</td>\n",
              "      <td>0.083546</td>\n",
              "      <td>0.385474</td>\n",
              "      <td>0.041068</td>\n",
              "      <td>1.313520</td>\n",
              "      <td>-1.414727</td>\n",
              "      <td>0.042482</td>\n",
              "      <td>1.014012</td>\n",
              "      <td>-1.919974</td>\n",
              "      <td>-0.235716</td>\n",
              "      <td>-0.096106</td>\n",
              "      <td>-0.103987</td>\n",
              "      <td>-0.059956</td>\n",
              "      <td>0.377011</td>\n",
              "      <td>0.212868</td>\n",
              "      <td>-0.307670</td>\n",
              "      <td>0.055587</td>\n",
              "      <td>0.066163</td>\n",
              "      <td>0</td>\n",
              "    </tr>\n",
              "    <tr>\n",
              "      <th>102443</th>\n",
              "      <td>-0.349231</td>\n",
              "      <td>-0.193670</td>\n",
              "      <td>-13.192671</td>\n",
              "      <td>12.785971</td>\n",
              "      <td>-9.906650</td>\n",
              "      <td>3.320337</td>\n",
              "      <td>-4.801176</td>\n",
              "      <td>5.760059</td>\n",
              "      <td>-18.750889</td>\n",
              "      <td>-37.353443</td>\n",
              "      <td>-0.391540</td>\n",
              "      <td>-5.052502</td>\n",
              "      <td>4.406806</td>\n",
              "      <td>-4.610756</td>\n",
              "      <td>-1.909488</td>\n",
              "      <td>-9.072711</td>\n",
              "      <td>-0.226074</td>\n",
              "      <td>-6.211557</td>\n",
              "      <td>-6.248145</td>\n",
              "      <td>-3.149247</td>\n",
              "      <td>0.051576</td>\n",
              "      <td>-3.493050</td>\n",
              "      <td>27.202839</td>\n",
              "      <td>-8.887017</td>\n",
              "      <td>5.303607</td>\n",
              "      <td>-0.639435</td>\n",
              "      <td>0.263203</td>\n",
              "      <td>-0.108877</td>\n",
              "      <td>1.269566</td>\n",
              "      <td>0.939407</td>\n",
              "      <td>1</td>\n",
              "    </tr>\n",
              "    <tr>\n",
              "      <th>30398</th>\n",
              "      <td>-0.316727</td>\n",
              "      <td>-0.573151</td>\n",
              "      <td>-3.519030</td>\n",
              "      <td>4.140867</td>\n",
              "      <td>-3.628202</td>\n",
              "      <td>5.505672</td>\n",
              "      <td>-4.057463</td>\n",
              "      <td>-0.905945</td>\n",
              "      <td>-6.652031</td>\n",
              "      <td>2.634524</td>\n",
              "      <td>-4.679402</td>\n",
              "      <td>-6.546242</td>\n",
              "      <td>3.538202</td>\n",
              "      <td>-8.042285</td>\n",
              "      <td>1.697509</td>\n",
              "      <td>-8.051049</td>\n",
              "      <td>1.070457</td>\n",
              "      <td>-7.395957</td>\n",
              "      <td>-14.329626</td>\n",
              "      <td>-4.868010</td>\n",
              "      <td>2.463843</td>\n",
              "      <td>0.898723</td>\n",
              "      <td>1.582556</td>\n",
              "      <td>0.778710</td>\n",
              "      <td>-0.135707</td>\n",
              "      <td>-0.004278</td>\n",
              "      <td>0.032706</td>\n",
              "      <td>0.362014</td>\n",
              "      <td>0.900925</td>\n",
              "      <td>0.554897</td>\n",
              "      <td>1</td>\n",
              "    </tr>\n",
              "  </tbody>\n",
              "</table>\n",
              "</div>"
            ],
            "text/plain": [
              "        scaled_amount  scaled_time         V1  ...       V27       V28  Class\n",
              "277778      -0.349231     0.976950   2.086211  ... -0.013395 -0.058172      0\n",
              "11841       -0.349231    -0.756118 -15.271362  ...  2.149247 -1.406811      1\n",
              "128066       0.334441    -0.071723   0.924646  ...  0.055587  0.066163      0\n",
              "102443      -0.349231    -0.193670 -13.192671  ...  1.269566  0.939407      1\n",
              "30398       -0.316727    -0.573151  -3.519030  ...  0.900925  0.554897      1\n",
              "\n",
              "[5 rows x 31 columns]"
            ]
          },
          "metadata": {
            "tags": []
          },
          "execution_count": 20
        }
      ]
    },
    {
      "cell_type": "code",
      "metadata": {
        "id": "p6dm9iTlReWl",
        "colab_type": "code",
        "colab": {
          "base_uri": "https://localhost:8080/",
          "height": 312
        },
        "outputId": "35ebc6d8-7d53-413b-ab4a-a6cf885a2aa3"
      },
      "source": [
        "#After creation of subsample visualization of transaction class distrubution\n",
        "\n",
        "count_class=pd.value_counts(new_df['Class'],sort=True)\n",
        "count_class.plot(kind='bar',rot=0)\n",
        "plt.title('Equal class distribution')\n",
        "LABELS=['Normal','Fraud']\n",
        "plt.xticks(range(2),LABELS)\n",
        "plt.xlabel('Class')"
      ],
      "execution_count": 21,
      "outputs": [
        {
          "output_type": "execute_result",
          "data": {
            "text/plain": [
              "Text(0.5, 0, 'Class')"
            ]
          },
          "metadata": {
            "tags": []
          },
          "execution_count": 21
        },
        {
          "output_type": "display_data",
          "data": {
            "image/png": "[encoded data removed]",
            "text/plain": [
              "<Figure size 432x288 with 1 Axes>"
            ]
          },
          "metadata": {
            "tags": []
          }
        }
      ]
    },
    {
      "cell_type": "code",
      "metadata": {
        "id": "zigzfvS6SXfX",
        "colab_type": "code",
        "colab": {
          "base_uri": "https://localhost:8080/",
          "height": 642
        },
        "outputId": "cb56b036-4339-465a-f8fe-c844bbf811b8"
      },
      "source": [
        "#Visualization of correleation using heatmap\n",
        "\n",
        "plt.figure(figsize=(12,10))\n",
        "heat=sns.heatmap(data.corr())\n",
        "plt.title('Heatmap of Correlation')"
      ],
      "execution_count": 22,
      "outputs": [
        {
          "output_type": "execute_result",
          "data": {
            "text/plain": [
              "Text(0.5, 1.0, 'Heatmap of Correlation')"
            ]
          },
          "metadata": {
            "tags": []
          },
          "execution_count": 22
        },
        {
          "output_type": "display_data",
          "data": {
            "image/png": "[encoded data removed]",
            "text/plain": [
              "<Figure size 864x720 with 2 Axes>"
            ]
          },
          "metadata": {
            "tags": []
          }
        }
      ]
    },
    {
      "cell_type": "code",
      "metadata": {
        "id": "GBedtNmQS8vx",
        "colab_type": "code",
        "colab": {
          "base_uri": "https://localhost:8080/",
          "height": 470
        },
        "outputId": "9892672a-ed1b-41d6-f878-2ce9c347d30d"
      },
      "source": [
        "#Visualization of corelaetion by boxplot\n",
        "\n",
        "f,ax=plt.subplots(2,2,figsize=(24,14))\n",
        "f.suptitle('Features with high negative correlation',size=20)\n",
        "sns.boxplot(x='Class',y='V10',data=new_df,ax=ax[0,0])\n",
        "sns.boxplot(x='Class',y='V12',data=new_df,ax=ax[0,1])\n",
        "sns.boxplot(x='Class',y='V14',data=new_df,ax=ax[1,0])\n",
        "sns.boxplot(x='Class',y='V17',data=new_df,ax=ax[1,1])"
      ],
      "execution_count": 23,
      "outputs": [
        {
          "output_type": "execute_result",
          "data": {
            "text/plain": [
              "<matplotlib.axes._subplots.AxesSubplot at 0x7f614fc33240>"
            ]
          },
          "metadata": {
            "tags": []
          },
          "execution_count": 23
        },
        {
          "output_type": "display_data",
          "data": {
            "image/png": "[encoded data removed]",
            "text/plain": [
              "<Figure size 1728x1008 with 4 Axes>"
            ]
          },
          "metadata": {
            "tags": []
          }
        }
      ]
    },
    {
      "cell_type": "code",
      "metadata": {
        "id": "-kOu11JsTLl5",
        "colab_type": "code",
        "colab": {
          "base_uri": "https://localhost:8080/",
          "height": 472
        },
        "outputId": "94d91668-02cb-4c56-df16-12c17df1bb3d"
      },
      "source": [
        "f,ax=plt.subplots(2,2,figsize=(24,14))\n",
        "f.suptitle('Features with high positive correlation',size=20)\n",
        "sns.boxplot(x='Class',y='V2',data=new_df,ax=ax[0,0])\n",
        "sns.boxplot(x='Class',y='V4',data=new_df,ax=ax[0,1])\n",
        "sns.boxplot(x='Class',y='V11',data=new_df,ax=ax[1,0])\n",
        "sns.boxplot(x='Class',y='V19',data=new_df,ax=ax[1,1])"
      ],
      "execution_count": 24,
      "outputs": [
        {
          "output_type": "execute_result",
          "data": {
            "text/plain": [
              "<matplotlib.axes._subplots.AxesSubplot at 0x7f614fb46320>"
            ]
          },
          "metadata": {
            "tags": []
          },
          "execution_count": 24
        },
        {
          "output_type": "display_data",
          "data": {
            "image/png": "[encoded data removed]",
            "text/plain": [
              "<Figure size 1728x1008 with 4 Axes>"
            ]
          },
          "metadata": {
            "tags": []
          }
        }
      ]
    },
    {
      "cell_type": "code",
      "metadata": {
        "id": "CocH1I7GTQ0F",
        "colab_type": "code",
        "colab": {}
      },
      "source": [
        "#Remove the extreme outliers that has high coreleation \n",
        "\n",
        "v14_fraud = new_df['V14'].loc[new_df['Class'] == 1].values\n",
        "q25, q75 = np.percentile(v14_fraud, 25), np.percentile(v14_fraud, 75)\n",
        "v14_iqr = q75 - q25\n",
        "v14_cut_off = v14_iqr * 1.5\n",
        "v14_lower, v14_upper = q25 - v14_cut_off, q75 + v14_cut_off\n",
        "new_df = new_df.drop(new_df[(new_df['V14'] > v14_upper) | (new_df['V14'] < v14_lower)].index)\n",
        "\n",
        "\n",
        "v12_fraud = new_df['V12'].loc[new_df['Class'] == 1].values\n",
        "q25, q75 = np.percentile(v12_fraud, 25), np.percentile(v12_fraud, 75)\n",
        "v12_iqr = q75 - q25\n",
        "\n",
        "v12_cut_off = v12_iqr * 1.5\n",
        "v12_lower, v12_upper = q25 - v12_cut_off, q75 + v12_cut_off\n",
        "new_df = new_df.drop(new_df[(new_df['V12'] > v12_upper) | (new_df['V12'] < v12_lower)].index)\n",
        "\n",
        "\n",
        "\n",
        "v10_fraud = new_df['V10'].loc[new_df['Class'] == 1].values\n",
        "q25, q75 = np.percentile(v10_fraud, 25), np.percentile(v10_fraud, 75)\n",
        "v10_iqr = q75 - q25\n",
        "\n",
        "v10_cut_off = v10_iqr * 1.5\n",
        "v10_lower, v10_upper = q25 - v10_cut_off, q75 + v10_cut_off\n",
        "\n",
        "new_df = new_df.drop(new_df[(new_df['V10'] > v10_upper) | (new_df['V10'] < v10_lower)].index)"
      ],
      "execution_count": 25,
      "outputs": []
    },
    {
      "cell_type": "markdown",
      "metadata": {
        "id": "LBAHj0crTyfa",
        "colab_type": "text"
      },
      "source": [
        "Classifier : An algorithm that maps input data to the specify category."
      ]
    },
    {
      "cell_type": "code",
      "metadata": {
        "id": "vNcWEG7ETwTx",
        "colab_type": "code",
        "colab": {}
      },
      "source": [
        "X=new_df.drop('Class',axis=1) \n",
        "y=new_df['Class']"
      ],
      "execution_count": 26,
      "outputs": []
    },
    {
      "cell_type": "code",
      "metadata": {
        "id": "bMBfdOboWJTG",
        "colab_type": "code",
        "colab": {}
      },
      "source": [
        "from sklearn.model_selection import train_test_split\n",
        "\n",
        "X_train, X_test, y_train, y_test = train_test_split(X, y, test_size=0.2, random_state=42)\n",
        "X_train = X_train.values\n",
        "X_test = X_test.values\n",
        "y_train = y_train.values\n",
        "y_test = y_test.values"
      ],
      "execution_count": 27,
      "outputs": []
    },
    {
      "cell_type": "code",
      "metadata": {
        "id": "v8nsLtzMWM94",
        "colab_type": "code",
        "colab": {}
      },
      "source": [
        "#import required classifiers\n",
        "\n",
        "from sklearn.tree import DecisionTreeClassifier\n",
        "from sklearn.linear_model import LogisticRegression\n",
        "from sklearn.svm import SVC\n",
        "from sklearn.neighbors import KNeighborsClassifier\n",
        "from sklearn.ensemble import RandomForestClassifier"
      ],
      "execution_count": 28,
      "outputs": []
    },
    {
      "cell_type": "code",
      "metadata": {
        "id": "iicGpZzLWWSi",
        "colab_type": "code",
        "colab": {
          "base_uri": "https://localhost:8080/",
          "height": 118
        },
        "outputId": "4e66b2f4-cabe-4bfe-eb93-7404bc7d5210"
      },
      "source": [
        "#Logistic Regression\n",
        "logmodel = LogisticRegression()\n",
        "logmodel.fit(X_train,y_train)\n",
        "#Support Vector Classifier\n",
        "svc=SVC()\n",
        "svc.fit(X_train,y_train)\n",
        "#K-nearest neighbors\n",
        "knn=KNeighborsClassifier()\n",
        "knn.fit(X_train,y_train)\n",
        "#Random Forest Classifier\n",
        "RDF_Classifier=RandomForestClassifier(random_state=0)\n",
        "RDF_Classifier.fit(X_train,y_train)\n",
        "#DecisionTreeClassifier\n",
        "DecisionTreeClassifier= DecisionTreeClassifier()\n",
        "DecisionTreeClassifier.fit(X_train,y_train)"
      ],
      "execution_count": 29,
      "outputs": [
        {
          "output_type": "execute_result",
          "data": {
            "text/plain": [
              "DecisionTreeClassifier(ccp_alpha=0.0, class_weight=None, criterion='gini',\n",
              "                       max_depth=None, max_features=None, max_leaf_nodes=None,\n",
              "                       min_impurity_decrease=0.0, min_impurity_split=None,\n",
              "                       min_samples_leaf=1, min_samples_split=2,\n",
              "                       min_weight_fraction_leaf=0.0, presort='deprecated',\n",
              "                       random_state=None, splitter='best')"
            ]
          },
          "metadata": {
            "tags": []
          },
          "execution_count": 29
        }
      ]
    },
    {
      "cell_type": "code",
      "metadata": {
        "id": "lDsA-BJbWbSz",
        "colab_type": "code",
        "colab": {
          "base_uri": "https://localhost:8080/",
          "height": 222
        },
        "outputId": "c0e239aa-84ab-4358-b01e-052accf392e7"
      },
      "source": [
        "#model evaluation and prediction\n",
        "\n",
        "from sklearn.model_selection import cross_val_score\n",
        "models_list=[('Logistic Regression',logmodel),('SVC',svc),('KNeighborsClassifier',knn),('RFC',RDF_Classifier),('DecisionTreeClassifier',DecisionTreeClassifier)]\n",
        "models=[j for j in models_list]\n",
        "print()\n",
        "#print('===========================Model Evaluation Results================================')\n",
        "for i,v in models:\n",
        "      print('==========================={}=========================================='.format(i))\n",
        "      a=cross_val_score(v, X_train, y_train, cv=5)\n",
        "      print('Cross validation score=',a.mean())"
      ],
      "execution_count": 31,
      "outputs": [
        {
          "output_type": "stream",
          "text": [
            "\n",
            "===========================Logistic Regression==========================================\n",
            "Cross validation score= 0.9313959567793656\n",
            "===========================SVC==========================================\n",
            "Cross validation score= 0.9274573021958871\n",
            "===========================KNeighborsClassifier==========================================\n",
            "Cross validation score= 0.9261240850470547\n",
            "===========================RFC==========================================\n",
            "Cross validation score= 0.9274311606831649\n",
            "===========================DecisionTreeClassifier==========================================\n",
            "Cross validation score= 0.8904583478563961\n"
          ],
          "name": "stdout"
        }
      ]
    },
    {
      "cell_type": "code",
      "metadata": {
        "id": "DJF912R-XSeq",
        "colab_type": "code",
        "colab": {
          "base_uri": "https://localhost:8080/",
          "height": 1000
        },
        "outputId": "ef13f1b9-9486-43d3-f7c9-13aa33d89718"
      },
      "source": [
        "#Test models\n",
        "\n",
        "from sklearn.metrics import accuracy_score\n",
        "from sklearn.metrics import confusion_matrix\n",
        "from sklearn.metrics import classification_report\n",
        "models_list=[('Logistic Regression',logmodel),('SVC',svc),('KNeighborsClassifier',knn),('RFC',RDF_Classifier),('DecisionTreeClassifier',DecisionTreeClassifier)]\n",
        "models=[j for j in models_list]\n",
        "print()\n",
        "print('===========Model Test Results===========')\n",
        "for i,v in models:\n",
        "      print('======================{}========================'.format(i))\n",
        "      pred_test = v.predict(X_test)\n",
        "      print('Accuracy =',accuracy_score(y_test,pred_test))\n",
        "      print('Confusion Matrix')\n",
        "      print(confusion_matrix(y_test,pred_test))\n",
        "      print('')\n",
        "      print('Classification Report')\n",
        "      print(classification_report(y_test,pred_test))"
      ],
      "execution_count": 39,
      "outputs": [
        {
          "output_type": "stream",
          "text": [
            "\n",
            "===========Model Test Results===========\n",
            "======================Logistic Regression========================\n",
            "Accuracy = 0.9578947368421052\n",
            "Confusion Matrix\n",
            "[[88  3]\n",
            " [ 5 94]]\n",
            "\n",
            "Classification Report\n",
            "              precision    recall  f1-score   support\n",
            "\n",
            "           0       0.95      0.97      0.96        91\n",
            "           1       0.97      0.95      0.96        99\n",
            "\n",
            "    accuracy                           0.96       190\n",
            "   macro avg       0.96      0.96      0.96       190\n",
            "weighted avg       0.96      0.96      0.96       190\n",
            "\n",
            "======================SVC========================\n",
            "Accuracy = 0.9526315789473684\n",
            "Confusion Matrix\n",
            "[[89  2]\n",
            " [ 7 92]]\n",
            "\n",
            "Classification Report\n",
            "              precision    recall  f1-score   support\n",
            "\n",
            "           0       0.93      0.98      0.95        91\n",
            "           1       0.98      0.93      0.95        99\n",
            "\n",
            "    accuracy                           0.95       190\n",
            "   macro avg       0.95      0.95      0.95       190\n",
            "weighted avg       0.95      0.95      0.95       190\n",
            "\n",
            "======================KNeighborsClassifier========================\n",
            "Accuracy = 0.9526315789473684\n",
            "Confusion Matrix\n",
            "[[87  4]\n",
            " [ 5 94]]\n",
            "\n",
            "Classification Report\n",
            "              precision    recall  f1-score   support\n",
            "\n",
            "           0       0.95      0.96      0.95        91\n",
            "           1       0.96      0.95      0.95        99\n",
            "\n",
            "    accuracy                           0.95       190\n",
            "   macro avg       0.95      0.95      0.95       190\n",
            "weighted avg       0.95      0.95      0.95       190\n",
            "\n",
            "======================RFC========================\n",
            "Accuracy = 0.9631578947368421\n",
            "Confusion Matrix\n",
            "[[89  2]\n",
            " [ 5 94]]\n",
            "\n",
            "Classification Report\n",
            "              precision    recall  f1-score   support\n",
            "\n",
            "           0       0.95      0.98      0.96        91\n",
            "           1       0.98      0.95      0.96        99\n",
            "\n",
            "    accuracy                           0.96       190\n",
            "   macro avg       0.96      0.96      0.96       190\n",
            "weighted avg       0.96      0.96      0.96       190\n",
            "\n",
            "======================DecisionTreeClassifier========================\n",
            "Accuracy = 0.9157894736842105\n",
            "Confusion Matrix\n",
            "[[80 11]\n",
            " [ 5 94]]\n",
            "\n",
            "Classification Report\n",
            "              precision    recall  f1-score   support\n",
            "\n",
            "           0       0.94      0.88      0.91        91\n",
            "           1       0.90      0.95      0.92        99\n",
            "\n",
            "    accuracy                           0.92       190\n",
            "   macro avg       0.92      0.91      0.92       190\n",
            "weighted avg       0.92      0.92      0.92       190\n",
            "\n"
          ],
          "name": "stdout"
        }
      ]
    },
    {
      "cell_type": "code",
      "metadata": {
        "id": "7YSqmES6ZU8N",
        "colab_type": "code",
        "colab": {}
      },
      "source": [
        ""
      ],
      "execution_count": null,
      "outputs": []
    }
  ]
}